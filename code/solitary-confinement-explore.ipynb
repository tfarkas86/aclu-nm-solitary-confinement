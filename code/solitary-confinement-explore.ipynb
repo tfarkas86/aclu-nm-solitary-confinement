{
 "cells": [
  {
   "cell_type": "code",
   "execution_count": 178,
   "id": "edbe80a2-4e9e-4691-88fa-687f6922abce",
   "metadata": {},
   "outputs": [],
   "source": [
    "import pandas as pd\n",
    "import itertools\n",
    "import numpy as np\n",
    "import matplotlib.pyplot as plt\n",
    "import seaborn as sns\n",
    "from scipy import stats"
   ]
  },
  {
   "cell_type": "code",
   "execution_count": 187,
   "id": "a782ba28-9d98-49c6-8b87-b7bcee20cea2",
   "metadata": {},
   "outputs": [
    {
     "name": "stdout",
     "output_type": "stream",
     "text": [
      "start_date       datetime64[ns]\n",
      "end_date         datetime64[ns]\n",
      "reasons                  object\n",
      "gender                   object\n",
      "ethnicity                object\n",
      "age                       int64\n",
      "facility_id               int64\n",
      "facility_name            object\n",
      "facility_type            object\n",
      "dtype: object\n"
     ]
    }
   ],
   "source": [
    "df = pd.read_csv('../data/unlock-the-box-data.csv', parse_dates=['start_date', 'end_date'])\n",
    "print(df.dtypes)"
   ]
  },
  {
   "cell_type": "code",
   "execution_count": 188,
   "id": "34fdc276-4b54-4d8e-8d5a-517d794f87b8",
   "metadata": {},
   "outputs": [],
   "source": [
    "rsns = df.reasons.unique().tolist()"
   ]
  },
  {
   "cell_type": "code",
   "execution_count": 189,
   "id": "7055c464-06f0-4aaf-baa3-de44e768c42d",
   "metadata": {},
   "outputs": [
    {
     "data": {
      "text/plain": [
       "['COVID-19',\n",
       " 'Disciplinary sanctions',\n",
       " 'Inmate is a threat or danger to the safety and security of the facility',\n",
       " 'Inmate is threat to others',\n",
       " 'Medical and mental health hold',\n",
       " 'Other']"
      ]
     },
     "execution_count": 189,
     "metadata": {},
     "output_type": "execute_result"
    }
   ],
   "source": [
    "strlist = \"[a, b]\"\n",
    "\n",
    "def str_to_list(x):\n",
    "    return x.strip('[]').replace(\"'\", \"\").split(', ')\n",
    "\n",
    "#print(str_to_list(strlist))\n",
    "rsns_unq = np.unique(sum([str_to_list(x) for x in rsns], [])).tolist()\n",
    "rsns_unq"
   ]
  },
  {
   "cell_type": "code",
   "execution_count": 190,
   "id": "5d19c865-7e80-44cb-b294-245b9c9d1401",
   "metadata": {},
   "outputs": [
    {
     "data": {
      "text/html": [
       "<div>\n",
       "<style scoped>\n",
       "    .dataframe tbody tr th:only-of-type {\n",
       "        vertical-align: middle;\n",
       "    }\n",
       "\n",
       "    .dataframe tbody tr th {\n",
       "        vertical-align: top;\n",
       "    }\n",
       "\n",
       "    .dataframe thead th {\n",
       "        text-align: right;\n",
       "    }\n",
       "</style>\n",
       "<table border=\"1\" class=\"dataframe\">\n",
       "  <thead>\n",
       "    <tr style=\"text-align: right;\">\n",
       "      <th></th>\n",
       "      <th>start_date</th>\n",
       "      <th>end_date</th>\n",
       "      <th>reasons</th>\n",
       "      <th>gender</th>\n",
       "      <th>ethnicity</th>\n",
       "      <th>age</th>\n",
       "      <th>facility_id</th>\n",
       "      <th>facility_name</th>\n",
       "      <th>facility_type</th>\n",
       "      <th>rsn_covid_ind</th>\n",
       "      <th>rsn_discipline_ind</th>\n",
       "      <th>rsn_security_ind</th>\n",
       "      <th>rsn_threat_ind</th>\n",
       "      <th>rsn_medical_ind</th>\n",
       "      <th>rsn_other_ind</th>\n",
       "      <th>duration</th>\n",
       "    </tr>\n",
       "  </thead>\n",
       "  <tbody>\n",
       "    <tr>\n",
       "      <th>0</th>\n",
       "      <td>2020-11-29</td>\n",
       "      <td>NaT</td>\n",
       "      <td>['Disciplinary sanctions']</td>\n",
       "      <td>Male</td>\n",
       "      <td>Hispanic</td>\n",
       "      <td>35</td>\n",
       "      <td>18</td>\n",
       "      <td>Metropolitan Detention Center</td>\n",
       "      <td>Jail</td>\n",
       "      <td>0</td>\n",
       "      <td>1</td>\n",
       "      <td>0</td>\n",
       "      <td>0</td>\n",
       "      <td>0</td>\n",
       "      <td>0</td>\n",
       "      <td>NaT</td>\n",
       "    </tr>\n",
       "    <tr>\n",
       "      <th>1</th>\n",
       "      <td>2022-03-31</td>\n",
       "      <td>2022-04-04</td>\n",
       "      <td>['Other']</td>\n",
       "      <td>Female</td>\n",
       "      <td>Asian</td>\n",
       "      <td>21</td>\n",
       "      <td>18</td>\n",
       "      <td>Metropolitan Detention Center</td>\n",
       "      <td>Jail</td>\n",
       "      <td>0</td>\n",
       "      <td>0</td>\n",
       "      <td>0</td>\n",
       "      <td>0</td>\n",
       "      <td>0</td>\n",
       "      <td>1</td>\n",
       "      <td>4 days</td>\n",
       "    </tr>\n",
       "    <tr>\n",
       "      <th>2</th>\n",
       "      <td>2022-03-31</td>\n",
       "      <td>NaT</td>\n",
       "      <td>['Disciplinary sanctions']</td>\n",
       "      <td>Male</td>\n",
       "      <td>Hispanic</td>\n",
       "      <td>29</td>\n",
       "      <td>18</td>\n",
       "      <td>Metropolitan Detention Center</td>\n",
       "      <td>Jail</td>\n",
       "      <td>0</td>\n",
       "      <td>1</td>\n",
       "      <td>0</td>\n",
       "      <td>0</td>\n",
       "      <td>0</td>\n",
       "      <td>0</td>\n",
       "      <td>NaT</td>\n",
       "    </tr>\n",
       "    <tr>\n",
       "      <th>3</th>\n",
       "      <td>2022-03-31</td>\n",
       "      <td>NaT</td>\n",
       "      <td>['Disciplinary sanctions']</td>\n",
       "      <td>Male</td>\n",
       "      <td>Hispanic</td>\n",
       "      <td>33</td>\n",
       "      <td>18</td>\n",
       "      <td>Metropolitan Detention Center</td>\n",
       "      <td>Jail</td>\n",
       "      <td>0</td>\n",
       "      <td>1</td>\n",
       "      <td>0</td>\n",
       "      <td>0</td>\n",
       "      <td>0</td>\n",
       "      <td>0</td>\n",
       "      <td>NaT</td>\n",
       "    </tr>\n",
       "    <tr>\n",
       "      <th>4</th>\n",
       "      <td>2022-03-31</td>\n",
       "      <td>NaT</td>\n",
       "      <td>['Other']</td>\n",
       "      <td>Male</td>\n",
       "      <td>Hispanic</td>\n",
       "      <td>60</td>\n",
       "      <td>18</td>\n",
       "      <td>Metropolitan Detention Center</td>\n",
       "      <td>Jail</td>\n",
       "      <td>0</td>\n",
       "      <td>0</td>\n",
       "      <td>0</td>\n",
       "      <td>0</td>\n",
       "      <td>0</td>\n",
       "      <td>1</td>\n",
       "      <td>NaT</td>\n",
       "    </tr>\n",
       "  </tbody>\n",
       "</table>\n",
       "</div>"
      ],
      "text/plain": [
       "  start_date   end_date                     reasons  gender ethnicity  age  \\\n",
       "0 2020-11-29        NaT  ['Disciplinary sanctions']    Male  Hispanic   35   \n",
       "1 2022-03-31 2022-04-04                   ['Other']  Female     Asian   21   \n",
       "2 2022-03-31        NaT  ['Disciplinary sanctions']    Male  Hispanic   29   \n",
       "3 2022-03-31        NaT  ['Disciplinary sanctions']    Male  Hispanic   33   \n",
       "4 2022-03-31        NaT                   ['Other']    Male  Hispanic   60   \n",
       "\n",
       "   facility_id                  facility_name facility_type  rsn_covid_ind  \\\n",
       "0           18  Metropolitan Detention Center          Jail              0   \n",
       "1           18  Metropolitan Detention Center          Jail              0   \n",
       "2           18  Metropolitan Detention Center          Jail              0   \n",
       "3           18  Metropolitan Detention Center          Jail              0   \n",
       "4           18  Metropolitan Detention Center          Jail              0   \n",
       "\n",
       "   rsn_discipline_ind  rsn_security_ind  rsn_threat_ind  rsn_medical_ind  \\\n",
       "0                   1                 0               0                0   \n",
       "1                   0                 0               0                0   \n",
       "2                   1                 0               0                0   \n",
       "3                   1                 0               0                0   \n",
       "4                   0                 0               0                0   \n",
       "\n",
       "   rsn_other_ind duration  \n",
       "0              0      NaT  \n",
       "1              1   4 days  \n",
       "2              0      NaT  \n",
       "3              0      NaT  \n",
       "4              1      NaT  "
      ]
     },
     "execution_count": 190,
     "metadata": {},
     "output_type": "execute_result"
    }
   ],
   "source": [
    "rsns_short = ['covid', 'discipline', 'security', 'threat', 'medical', 'other']\n",
    "\n",
    "for rsn in range(len(rsns_unq)): \n",
    "    df[f'rsn_{rsns_short[rsn]}_ind'] = df.reasons.str.contains(rsns_unq[rsn]).replace({True: 1, False: 0})\n",
    " \n",
    "df['duration'] = df.end_date - df.start_date\n",
    "\n",
    "df.head(5)"
   ]
  },
  {
   "cell_type": "code",
   "execution_count": 191,
   "id": "05cc973e-c787-4bab-9f7c-2bb9ce9e0814",
   "metadata": {},
   "outputs": [],
   "source": [
    "df.set_index('start_date', inplace = True)\n",
    "df = df[df.facility_id == 18]"
   ]
  },
  {
   "cell_type": "code",
   "execution_count": 192,
   "id": "9de10e17-3d00-4896-b4d4-2635d0178d92",
   "metadata": {},
   "outputs": [
    {
     "name": "stderr",
     "output_type": "stream",
     "text": [
      "/var/folders/2x/739ft8655g558m5n5lw8c34c0000gn/T/ipykernel_7606/1076400628.py:2: FutureWarning: The default value of numeric_only in DataFrameGroupBy.sum is deprecated. In a future version, numeric_only will default to False. Either specify numeric_only or select only columns which should be valid for the function.\n",
      "  sums = df.groupby([df.index.year, df.index.month]).sum().iloc[:, -6:]\n"
     ]
    },
    {
     "data": {
      "text/plain": [
       "array([[  0,  29,  12,   0,   0,   9],\n",
       "       [  0,  27,  14,   3,   0,  23],\n",
       "       [  0,  43,   7,   4,   0,  23],\n",
       "       [  0,   0,   2,   0,   0,   0],\n",
       "       [  0,  57,  16,   0,   1,  72],\n",
       "       [  0,  69,  27,   0,   0,  66],\n",
       "       [  0,   4,   1,   0,   0,   5],\n",
       "       [  0,  27,   0,   0,   0,  53],\n",
       "       [  0,  19,   8,   0,   0,  38],\n",
       "       [  0,  57,   2,   0,   0, 224],\n",
       "       [  0, 200,  44,   0,   4, 172],\n",
       "       [  0, 176,  48,   0,   0, 160],\n",
       "       [  0, 192,  34,   0,   0, 174],\n",
       "       [  0,  69,  19,   0,   0, 247],\n",
       "       [  0,  76,  20,   0,   0, 118],\n",
       "       [  0,  66,  19,   0,   2, 149],\n",
       "       [  0,  80,  10,   0,   0, 130],\n",
       "       [  0,  81,  20,   0,   0, 160],\n",
       "       [  0, 111,   4,   0,   0, 112],\n",
       "       [  0,  46,  12,   0,   0, 154],\n",
       "       [  0, 100,   8,   0,   0, 142],\n",
       "       [  0, 254,  26,   0,   2, 260]])"
      ]
     },
     "execution_count": 192,
     "metadata": {},
     "output_type": "execute_result"
    }
   ],
   "source": [
    "df.head()\n",
    "sums = df.groupby([df.index.year, df.index.month]).sum().iloc[:, -6:]\n",
    "sums.index.rename(['year', 'month'], inplace = True)\n",
    "sums.reset_index(inplace = True)\n",
    "sums['day'] = 1\n",
    "sums['date'] = pd.to_datetime(sums[['year', 'month', 'day']])\n",
    "\n",
    "\n",
    "df_agg = sums.melt(id_vars = ['year', 'month'])\n",
    "df_agg['day'] = 1\n",
    "df_agg.head()\n",
    "\n",
    "df_agg['date'] = pd.to_datetime(df_agg[['year', 'month', 'day']])\n",
    "\n",
    "df_agg.drop(['year', 'month', 'day'], axis = 1, inplace = True)\n",
    "\n",
    "sums = sums[sums.date > \"2018\"]\n",
    "dates = sums.date\n",
    "y = sums.drop(['date', 'year', 'month', 'day'], axis = 1).to_numpy()\n",
    "y\n"
   ]
  },
  {
   "cell_type": "code",
   "execution_count": 181,
   "id": "cf664f77-e272-48ce-9f50-1a64669a6fe7",
   "metadata": {},
   "outputs": [],
   "source": [
    "def gaussian_smooth(x, y, sd):\n",
    "    weights = np.array([stats.norm.pdf(x, m, sd) for m in x])\n",
    "    weights = weights / weights.sum(1)\n",
    "    return (weights * y).sum(1)"
   ]
  },
  {
   "cell_type": "code",
   "execution_count": 193,
   "id": "ad3e9bd7-272f-4670-9465-32a88441f1a5",
   "metadata": {},
   "outputs": [
    {
     "data": {
      "text/plain": [
       "(array([18140., 18262., 18383., 18506., 18628., 18748., 18871., 18993.]),\n",
       " [Text(18140.0, 0, '2019-09'),\n",
       "  Text(18262.0, 0, '2020-01'),\n",
       "  Text(18383.0, 0, '2020-05'),\n",
       "  Text(18506.0, 0, '2020-09'),\n",
       "  Text(18628.0, 0, '2021-01'),\n",
       "  Text(18748.0, 0, '2021-05'),\n",
       "  Text(18871.0, 0, '2021-09'),\n",
       "  Text(18993.0, 0, '2022-01')])"
      ]
     },
     "execution_count": 193,
     "metadata": {},
     "output_type": "execute_result"
    },
    {
     "data": {
      "image/png": "[encoded data removed]",
      "text/plain": [
       "<Figure size 640x480 with 1 Axes>"
      ]
     },
     "metadata": {},
     "output_type": "display_data"
    }
   ],
   "source": [
    "fig, ax = plt.subplots()\n",
    "\n",
    "#grid = np.linspace(1985, 2025, num=500)\n",
    "#y_smoothed = [gaussian_smooth(dates, y_, 1) for y_ in y]\n",
    "\n",
    "#ax.stackplot(dates, y_smoothed, labels = ['disc', 'sec', 'c19', 'threat', 'medical', 'other' ], baseline = 'wiggle')\n",
    "ax.stackplot(sums.date, sums.rsn_discipline_ind, sums.rsn_security_ind, sums.rsn_covid_ind, sums.rsn_threat_ind, sums.rsn_medical_ind, sums.rsn_other_ind, labels = ['disc', 'sec', 'c19', 'threat', 'medical', 'other' ], baseline = 'sym')\n",
    "ax.legend(loc='upper left')\n",
    "plt.xticks(rotation = 45)\n"
   ]
  }
 ],
 "metadata": {
  "kernelspec": {
   "display_name": "env",
   "language": "python",
   "name": "env"
  },
  "language_info": {
   "codemirror_mode": {
    "name": "ipython",
    "version": 3
   },
   "file_extension": ".py",
   "mimetype": "text/x-python",
   "name": "python",
   "nbconvert_exporter": "python",
   "pygments_lexer": "ipython3",
   "version": "3.10.6"
  }
 },
 "nbformat": 4,
 "nbformat_minor": 5
}
